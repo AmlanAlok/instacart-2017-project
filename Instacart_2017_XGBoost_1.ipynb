{
  "nbformat": 4,
  "nbformat_minor": 0,
  "metadata": {
    "colab": {
      "name": "Instacart_2017_XGBoost_1.ipynb",
      "provenance": [],
      "authorship_tag": "ABX9TyPBB+krZPLA3/S4wE5HzvlM",
      "include_colab_link": true
    },
    "kernelspec": {
      "name": "python3",
      "display_name": "Python 3"
    },
    "language_info": {
      "name": "python"
    }
  },
  "cells": [
    {
      "cell_type": "markdown",
      "metadata": {
        "id": "view-in-github",
        "colab_type": "text"
      },
      "source": [
        "<a href=\"https://colab.research.google.com/github/AmlanAlok/instacart-2017-project/blob/XGBoost-1/Instacart_2017_XGBoost_1.ipynb\" target=\"_parent\"><img src=\"https://colab.research.google.com/assets/colab-badge.svg\" alt=\"Open In Colab\"/></a>"
      ]
    },
    {
      "cell_type": "code",
      "execution_count": 1,
      "metadata": {
        "id": "5WhH5IHpu8qC"
      },
      "outputs": [],
      "source": [
        "# For data manipulation\n",
        "import pandas as pd    \n",
        "import xgboost\n",
        "from sklearn.model_selection import train_test_split\n",
        "import time\n",
        "\n",
        "import pandas as pd # dataframes\n",
        "import numpy as np # algebra & calculus\n",
        "\n",
        "\n",
        "# Garbage Collector to free up memory\n",
        "import gc                         \n",
        "gc.enable()  "
      ]
    }
  ]
}